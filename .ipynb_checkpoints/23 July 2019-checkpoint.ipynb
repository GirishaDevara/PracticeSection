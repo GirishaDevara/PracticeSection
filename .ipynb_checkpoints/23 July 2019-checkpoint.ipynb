{
 "cells": [
  {
   "cell_type": "code",
   "execution_count": 54,
   "metadata": {},
   "outputs": [
    {
     "name": "stdout",
     "output_type": "stream",
     "text": [
      "1\n",
      "2\n",
      "1 5 7 8\n",
      "1 8 5 7\n"
     ]
    }
   ],
   "source": [
    "for t in range(int(input())):\n",
    "    n = int(input())\n",
    "    print(\" \".join(map(str,sorted(map(int,input().split()),key = lambda x: bin(x)[2:].count(\"1\")))))"
   ]
  },
  {
   "cell_type": "code",
   "execution_count": 37,
   "metadata": {},
   "outputs": [
    {
     "data": {
      "text/plain": [
       "3.321928094887362"
      ]
     },
     "execution_count": 37,
     "metadata": {},
     "output_type": "execute_result"
    }
   ],
   "source": [
    "import math\n",
    "e = math.log2(10)\n",
    "round(e)\n",
    "e"
   ]
  },
  {
   "cell_type": "code",
   "execution_count": 23,
   "metadata": {},
   "outputs": [
    {
     "name": "stdout",
     "output_type": "stream",
     "text": [
      "Help on built-in function log2 in module math:\n",
      "\n",
      "log2(x, /)\n",
      "    Return the base 2 logarithm of x.\n",
      "\n"
     ]
    }
   ],
   "source": [
    "help(math.log2)"
   ]
  },
  {
   "cell_type": "markdown",
   "metadata": {},
   "source": [
    "### 2. Sherlock and XOR\n",
    "10:30am 11:00Am"
   ]
  },
  {
   "cell_type": "code",
   "execution_count": 64,
   "metadata": {},
   "outputs": [
    {
     "name": "stdout",
     "output_type": "stream",
     "text": [
      "1\n",
      "3\n",
      "1 2 3\n",
      "2\n"
     ]
    }
   ],
   "source": [
    "for t in range(int(input())):\n",
    "    n = int(input())\n",
    "    ar = list(map(int,input().split()))\n",
    "    c = 0\n",
    "    for i in range(n-1):\n",
    "        for j in range(i+1,n):\n",
    "            if (ar[i]^ar[j]) % 2 == 1:\n",
    "                c +=1\n",
    "    print(c)"
   ]
  },
  {
   "cell_type": "code",
   "execution_count": 63,
   "metadata": {},
   "outputs": [
    {
     "name": "stdout",
     "output_type": "stream",
     "text": [
      "1\n"
     ]
    }
   ],
   "source": [
    "li = [89,76,763,7436,2,1,637]\n",
    "minval = li[0]\n",
    "for i in li:\n",
    "    if minval > i:\n",
    "        minval = i\n",
    "print(minval)"
   ]
  },
  {
   "cell_type": "markdown",
   "metadata": {},
   "source": [
    "### Poisonous gas\n",
    "11:20Am 11:40Am"
   ]
  },
  {
   "cell_type": "code",
   "execution_count": 72,
   "metadata": {},
   "outputs": [
    {
     "name": "stdout",
     "output_type": "stream",
     "text": [
      "1\n",
      "2\n",
      "8 -4\n",
      "8\n",
      "Yes\n"
     ]
    }
   ],
   "source": [
    "for t in range(int(input())):\n",
    "    n = int(input())\n",
    "    ar = list(map(int,input().split()))\n",
    "    s = 0\n",
    "    for ele in ar:\n",
    "        if ele > 0:\n",
    "            s += ele\n",
    "    print(s)\n",
    "    i = 0\n",
    "    f = False\n",
    "    while(s >= (2**i)):\n",
    "        if (s == (2**i)):\n",
    "            f = True\n",
    "        i += 1\n",
    "    if f==True:\n",
    "        print(\"Yes\")\n",
    "    else:\n",
    "        print(\"No\")"
   ]
  },
  {
   "cell_type": "code",
   "execution_count": 74,
   "metadata": {
    "scrolled": true
   },
   "outputs": [
    {
     "data": {
      "text/plain": [
       "True"
      ]
     },
     "execution_count": 74,
     "metadata": {},
     "output_type": "execute_result"
    }
   ],
   "source": [
    "sorted(list(\"phackerekarthj\"))==sorted(list(\"jhakckerearthp\"))"
   ]
  },
  {
   "cell_type": "code",
   "execution_count": 77,
   "metadata": {},
   "outputs": [
    {
     "data": {
      "text/plain": [
       "{'a', 'c', 'e', 'h', 'j', 'k', 'p', 'r', 't'}"
      ]
     },
     "execution_count": 77,
     "metadata": {},
     "output_type": "execute_result"
    }
   ],
   "source": [
    "set(\"phackerekarthj\")&set(\"jhakckerearthp\")"
   ]
  },
  {
   "cell_type": "code",
   "execution_count": null,
   "metadata": {},
   "outputs": [],
   "source": []
  },
  {
   "cell_type": "markdown",
   "metadata": {},
   "source": [
    "### Xsquare And Two Strings\n",
    "11:45Am 12:00Pm"
   ]
  },
  {
   "cell_type": "code",
   "execution_count": 76,
   "metadata": {},
   "outputs": [
    {
     "name": "stdout",
     "output_type": "stream",
     "text": [
      "1\n",
      "jsk\n",
      "s\n",
      "Yes\n"
     ]
    }
   ],
   "source": [
    "for t in range(int(input())):\n",
    "    s1 = input()\n",
    "    s2 = input()\n",
    "    f = False\n",
    "    if len(s1) < len(s2):\n",
    "        for char in s1:\n",
    "            if char in s2:\n",
    "                f = True\n",
    "                break\n",
    "    else:\n",
    "        for char in s2:\n",
    "            if char in s1:\n",
    "                f = True\n",
    "                break\n",
    "    if f:\n",
    "        print(\"Yes\")\n",
    "    else:\n",
    "        print(\"No\")"
   ]
  },
  {
   "cell_type": "code",
   "execution_count": null,
   "metadata": {},
   "outputs": [],
   "source": []
  }
 ],
 "metadata": {
  "kernelspec": {
   "display_name": "Python 3",
   "language": "python",
   "name": "python3"
  },
  "language_info": {
   "codemirror_mode": {
    "name": "ipython",
    "version": 3
   },
   "file_extension": ".py",
   "mimetype": "text/x-python",
   "name": "python",
   "nbconvert_exporter": "python",
   "pygments_lexer": "ipython3",
   "version": "3.7.3"
  }
 },
 "nbformat": 4,
 "nbformat_minor": 2
}
