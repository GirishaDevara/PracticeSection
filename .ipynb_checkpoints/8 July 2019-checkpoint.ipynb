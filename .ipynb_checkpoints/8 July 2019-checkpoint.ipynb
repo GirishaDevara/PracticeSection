{
 "cells": [
  {
   "cell_type": "markdown",
   "metadata": {},
   "source": [
    "# Date 8 July 2019\n",
    "\n",
    "### Python Problem sets\n",
    "\n",
    "\n",
    "1. Function to print all numbers divisible by 6 and not a factor of 100 in a given range(lb, ub) inclusive\n",
    "2. Function to find the average of cubes of all even numbers in a given range(lb, ub) inclusive\n",
    "3. Function to generate the list of factors for a given number\n",
    "4. Function to calculate the factorial of a given number\n",
    "5. Function to check if a given number is Prime\n",
    "6. Function to calculate the average first N Prime numbers\n",
    "7. Function to generate all Perfect numbers in a given range\n",
    "\n",
    "\n",
    "#### Advanced Problem Set( Optional )\n",
    "1. Function to calculate the average of all factorials in a given range\n",
    "2. Function to generate N odd Armstrong numbers\n",
    "3. Function to generate Multiplication table for a number in a given range\n",
    "    - 10 in the range(100, 102) inclusive\n",
    "    - 10 x 100 = 1000\n",
    "    - 10 x 101 = 1010\n",
    "    - 10 x 102 = 1020\n",
    "\n",
    "\n",
    "### Problems That needs a Try\n",
    "\n",
    "1. You are given a string and your task is to swap cases. In other words, convert all lowercase letters to uppercase letters and vice versa. (The String may contain special characters).\n",
    "2. Given an integer, ’n’ , perform the following conditional actions:\n",
    "    - If ‘n’  is odd, print Weird\n",
    "    - If  ‘n’ is even and in the inclusive range of 2 to 5, print Not Weird\n",
    "    - If  ‘n’ is even and in the inclusive range of 6 to 20 , print Weird\n",
    "    - If  ‘n’ is even and greater than 20, print Not Weird\n",
    "3. Given the participants ‘n’ score sheet for your University Sports Day, you are required to find the runner-up score. You are given scores. Store them in a list and find the score of the runner-up. (there can be multiple winners - if their scores match). "
   ]
  },
  {
   "cell_type": "code",
   "execution_count": 8,
   "metadata": {},
   "outputs": [
    {
     "name": "stdout",
     "output_type": "stream",
     "text": [
      "1\n",
      "100\n",
      "6 12 18 24 30 36 42 48 54 60 66 72 78 84 90 96 "
     ]
    }
   ],
   "source": [
    "# 1   Function to print all numbers divisible by 6 and not a factor of 100 in a given range(lb, ub) inclusive\n",
    "def isfactorof100(n):\n",
    "    if 100 % n == 0:\n",
    "        return True\n",
    "    return False\n",
    "\n",
    "\n",
    "lb = int(input())\n",
    "ub = int(input())\n",
    "for i in range(lb,ub+1):\n",
    "    if i % 6 == 0 and not(isfactorof100(i)):\n",
    "        print(i,end=' ')"
   ]
  },
  {
   "cell_type": "code",
   "execution_count": 12,
   "metadata": {},
   "outputs": [
    {
     "name": "stdout",
     "output_type": "stream",
     "text": [
      "1\n",
      "10\n"
     ]
    },
    {
     "data": {
      "text/plain": [
       "6"
      ]
     },
     "execution_count": 12,
     "metadata": {},
     "output_type": "execute_result"
    }
   ],
   "source": [
    "# 2  Function to find the average of cubes of all even numbers in a given range(lb, ub) inclusive\n",
    "def avgOfcubesOfevenNums(start,end):\n",
    "    count = 0\n",
    "    s = 0\n",
    "    for i in range(start,end+1):\n",
    "        if i % 2 == 0:\n",
    "            count += 1\n",
    "            s += i\n",
    "    return s//count\n",
    "        \n",
    "start = int(input())\n",
    "end = int(input())\n",
    "avgOfcubesOfevenNums(start,end)"
   ]
  },
  {
   "cell_type": "code",
   "execution_count": 6,
   "metadata": {},
   "outputs": [
    {
     "name": "stdout",
     "output_type": "stream",
     "text": [
      "2\n",
      "[1, 2]\n"
     ]
    }
   ],
   "source": [
    "# 3 Function to generate the list of factors for a given number\n",
    "def factors(n):\n",
    "    li = []\n",
    "    for i in range(1,n+1):\n",
    "        if n % i == 0:\n",
    "            li.append(i)\n",
    "    return li\n",
    "n = int(input())\n",
    "print(factors(n))"
   ]
  },
  {
   "cell_type": "code",
   "execution_count": 8,
   "metadata": {},
   "outputs": [
    {
     "name": "stdout",
     "output_type": "stream",
     "text": [
      "2\n"
     ]
    },
    {
     "data": {
      "text/plain": [
       "2"
      ]
     },
     "execution_count": 8,
     "metadata": {},
     "output_type": "execute_result"
    }
   ],
   "source": [
    "# 4  Function to calculate the factorial of a given number\n",
    "def factorial(n):\n",
    "    f = 1\n",
    "    for i in range(1,n+1):\n",
    "        f *= i\n",
    "    return f\n",
    "n = int(input())\n",
    "factorial(n)"
   ]
  },
  {
   "cell_type": "code",
   "execution_count": 4,
   "metadata": {},
   "outputs": [
    {
     "name": "stdout",
     "output_type": "stream",
     "text": [
      "1\n"
     ]
    },
    {
     "data": {
      "text/plain": [
       "False"
      ]
     },
     "execution_count": 4,
     "metadata": {},
     "output_type": "execute_result"
    }
   ],
   "source": [
    "# 5 Function to check if a given number is Prime\n",
    "def isprime(n):\n",
    "    if n == 1:\n",
    "        return False\n",
    "    if n == 2:\n",
    "        return True\n",
    "    for i in range(2,int(n**0.5)+1):\n",
    "        if n % i == 0:\n",
    "            return False\n",
    "    return True\n",
    "n = int(input())\n",
    "isprime(n)\n"
   ]
  },
  {
   "cell_type": "code",
   "execution_count": 5,
   "metadata": {},
   "outputs": [
    {
     "name": "stdout",
     "output_type": "stream",
     "text": [
      "15\n"
     ]
    },
    {
     "data": {
      "text/plain": [
       "6"
      ]
     },
     "execution_count": 5,
     "metadata": {},
     "output_type": "execute_result"
    }
   ],
   "source": [
    "# 6 Function to calculate the average first N Prime numbers\n",
    "def PrimeAvg(n):\n",
    "    c = 0\n",
    "    s = 0\n",
    "    for i in range(2,n+1):\n",
    "        if isprime(i):\n",
    "            s += i\n",
    "            c += 1\n",
    "    return s//c\n",
    "n = int(input())\n",
    "PrimeAvg(n)"
   ]
  },
  {
   "cell_type": "code",
   "execution_count": 14,
   "metadata": {},
   "outputs": [
    {
     "name": "stdout",
     "output_type": "stream",
     "text": [
      "1\n",
      "1000\n",
      "6  28  496  "
     ]
    }
   ],
   "source": [
    "#  7. Function to generate all Perfect numbers in a given range\n",
    "def isperfect(num):\n",
    "    s=0\n",
    "    for i in range(1,num):\n",
    "        if num%i==0:\n",
    "            s+=i\n",
    "    if s==num:\n",
    "        return True\n",
    "    return False\n",
    "isperfect(6)\n",
    "lb=int(input())\n",
    "ub=int(input())\n",
    "for i in range(lb,ub+1):\n",
    "    if isperfect(i):\n",
    "        print(i,end = '  ')"
   ]
  },
  {
   "cell_type": "code",
   "execution_count": 9,
   "metadata": {},
   "outputs": [
    {
     "name": "stdout",
     "output_type": "stream",
     "text": [
      "2\n",
      "10\n"
     ]
    },
    {
     "data": {
      "text/plain": [
       "448656"
      ]
     },
     "execution_count": 9,
     "metadata": {},
     "output_type": "execute_result"
    }
   ],
   "source": [
    "# 8  Function to calculate the average of all factorials in a given range\n",
    "def avg_of_factorials(start,end):\n",
    "    s = 0\n",
    "    c = 0\n",
    "    for i in range(start,end+1):\n",
    "        s += factorial(i)\n",
    "        c += 1\n",
    "    return s//c\n",
    "\n",
    "start = int(input())\n",
    "end = int(input())\n",
    "avg_of_factorials(start,end)"
   ]
  },
  {
   "cell_type": "code",
   "execution_count": null,
   "metadata": {},
   "outputs": [],
   "source": [
    "##  9 Function to generate N odd Armstrong numbers\n",
    "def armstrongnumber(num):\n",
    "    n=len(str(num))\n",
    "    digits=list(map(int,list(str(num))))\n",
    "    s=0\n",
    "    for digit in digits:\n",
    "        s+=digit**n\n",
    "    if s==num:\n",
    "        return True\n",
    "    return False\n",
    "\n",
    "def nArmStrongNums(n):\n",
    "    i = n\n",
    "    while \n",
    "n = int(input())\n",
    "\n",
    "armstrongnumber(1)"
   ]
  },
  {
   "cell_type": "code",
   "execution_count": 16,
   "metadata": {},
   "outputs": [
    {
     "name": "stdout",
     "output_type": "stream",
     "text": [
      "10\n",
      "100\n",
      "105\n",
      "10 x 100 = 1000\n",
      "10 x 101 = 1010\n",
      "10 x 102 = 1020\n",
      "10 x 103 = 1030\n",
      "10 x 104 = 1040\n",
      "10 x 105 = 1050\n"
     ]
    }
   ],
   "source": [
    "#   10.  Function to generate Multiplication table for a number in a given range\n",
    "#  10 in the range(100, 102) inclusive\n",
    "#  10 x 100 = 1000\n",
    "#  10 x 101 = 1010\n",
    "#  10 x 102 = 1020\n",
    "def mul_table(num,start,end):\n",
    "    for i in range(start,end+1):\n",
    "        print(\"{} x {} = {}\".format(num,i,num*i))\n",
    "        \n",
    "num = int(input())\n",
    "start = int(input())\n",
    "end = int(input())\n",
    "mul_table(num,start,end)"
   ]
  },
  {
   "cell_type": "code",
   "execution_count": 27,
   "metadata": {},
   "outputs": [
    {
     "name": "stdout",
     "output_type": "stream",
     "text": [
      "jkfb\n",
      "JKFB\n"
     ]
    }
   ],
   "source": [
    "## You are given a string and your task is to swap cases.\n",
    "## In other words, convert all lowercase letters to uppercase letters and vice versa. \n",
    "## (The String may contain special characters).\n",
    "s = input()\n",
    "if s.isalpha():\n",
    "    print(s.swapcase())\n",
    "else:\n",
    "    d = \"\"\n",
    "    for char in s:\n",
    "        if not char.isalpha():\n",
    "            d += char\n",
    "        else:\n",
    "            d += char.swapcase()\n",
    "    print(d)"
   ]
  },
  {
   "cell_type": "code",
   "execution_count": 30,
   "metadata": {},
   "outputs": [
    {
     "name": "stdout",
     "output_type": "stream",
     "text": [
      "8\n",
      "Weird\n"
     ]
    }
   ],
   "source": [
    "# Given an integer, ’n’ , perform the following conditional actions:\n",
    "# If ‘n’ is odd, print Weird\n",
    "# If ‘n’ is even and in the inclusive range of 2 to 5, print Not Weird\n",
    "# If ‘n’ is even and in the inclusive range of 6 to 20 , print Weird\n",
    "# If ‘n’ is even and greater than 20, print Not Weird\n",
    "n =int(input())\n",
    "if n % 2 == 1:\n",
    "    print(\"Weird\")\n",
    "elif n >= 2 and n <= 5:\n",
    "    print(\"Not Weird\")\n",
    "elif n >= 6 and n <= 20:\n",
    "    print(\"Weird\")\n",
    "elif n > 20:\n",
    "    print(\"Not Weird\")"
   ]
  },
  {
   "cell_type": "code",
   "execution_count": 34,
   "metadata": {},
   "outputs": [
    {
     "name": "stdout",
     "output_type": "stream",
     "text": [
      "1 2 2 3 3 3 1\n",
      "2\n"
     ]
    }
   ],
   "source": [
    "## Given the participants ‘n’ score sheet for your University Sports Day, \n",
    "## you are required to find the runner-up score. You are given scores. \n",
    "## Store them in a list and find the score of the runner-up. (there can be multiple winners - if their scores match).\n",
    "\n",
    "li = list(map(int,input().split()))\n",
    "li2 = list(set(li))\n",
    "print(sorted(li2,reverse = True)[1])"
   ]
  },
  {
   "cell_type": "code",
   "execution_count": 29,
   "metadata": {},
   "outputs": [
    {
     "name": "stdout",
     "output_type": "stream",
     "text": [
      "B\n"
     ]
    },
    {
     "ename": "IndexError",
     "evalue": "string index out of range",
     "output_type": "error",
     "traceback": [
      "\u001b[1;31m---------------------------------------------------------------------------\u001b[0m",
      "\u001b[1;31mIndexError\u001b[0m                                Traceback (most recent call last)",
      "\u001b[1;32m<ipython-input-29-87e879e77b1b>\u001b[0m in \u001b[0;36m<module>\u001b[1;34m\u001b[0m\n\u001b[0;32m      4\u001b[0m     \u001b[1;32mif\u001b[0m \u001b[0mlen\u001b[0m\u001b[1;33m(\u001b[0m\u001b[0mt\u001b[0m\u001b[1;33m)\u001b[0m\u001b[1;33m==\u001b[0m \u001b[1;36m1\u001b[0m \u001b[1;32mand\u001b[0m \u001b[0mword\u001b[0m\u001b[1;33m.\u001b[0m\u001b[0mstartswith\u001b[0m\u001b[1;33m(\u001b[0m\u001b[0mt\u001b[0m\u001b[1;33m[\u001b[0m\u001b[1;36m0\u001b[0m\u001b[1;33m]\u001b[0m\u001b[1;33m)\u001b[0m\u001b[1;33m:\u001b[0m\u001b[1;33m\u001b[0m\u001b[1;33m\u001b[0m\u001b[0m\n\u001b[0;32m      5\u001b[0m         \u001b[0mprint\u001b[0m\u001b[1;33m(\u001b[0m\u001b[0mword\u001b[0m\u001b[1;33m)\u001b[0m\u001b[1;33m\u001b[0m\u001b[1;33m\u001b[0m\u001b[0m\n\u001b[1;32m----> 6\u001b[1;33m     \u001b[1;32melif\u001b[0m \u001b[1;33m(\u001b[0m\u001b[0mt\u001b[0m\u001b[1;33m[\u001b[0m\u001b[1;36m0\u001b[0m\u001b[1;33m]\u001b[0m \u001b[1;32min\u001b[0m \u001b[0mword\u001b[0m\u001b[1;33m)\u001b[0m \u001b[1;32mand\u001b[0m \u001b[1;33m(\u001b[0m\u001b[0mt\u001b[0m\u001b[1;33m[\u001b[0m\u001b[1;36m1\u001b[0m\u001b[1;33m]\u001b[0m \u001b[1;32min\u001b[0m \u001b[0mword\u001b[0m\u001b[1;33m)\u001b[0m\u001b[1;33m:\u001b[0m\u001b[1;33m\u001b[0m\u001b[1;33m\u001b[0m\u001b[0m\n\u001b[0m\u001b[0;32m      7\u001b[0m         \u001b[0mprint\u001b[0m\u001b[1;33m(\u001b[0m\u001b[0mword\u001b[0m\u001b[1;33m)\u001b[0m\u001b[1;33m\u001b[0m\u001b[1;33m\u001b[0m\u001b[0m\n",
      "\u001b[1;31mIndexError\u001b[0m: string index out of range"
     ]
    }
   ],
   "source": [
    "s = \"HelloWorld HowAreYou HappyBirthday HowAreThey\"\n",
    "t = input()\n",
    "for word in s.split():\n",
    "    if len(t) == 1 and word.startswith(t[0]):\n",
    "        print(word)\n",
    "    elif (t[0] in word) and (t[1] in word):\n",
    "        print(word)"
   ]
  },
  {
   "cell_type": "code",
   "execution_count": null,
   "metadata": {},
   "outputs": [],
   "source": []
  }
 ],
 "metadata": {
  "kernelspec": {
   "display_name": "Python 3",
   "language": "python",
   "name": "python3"
  },
  "language_info": {
   "codemirror_mode": {
    "name": "ipython",
    "version": 3
   },
   "file_extension": ".py",
   "mimetype": "text/x-python",
   "name": "python",
   "nbconvert_exporter": "python",
   "pygments_lexer": "ipython3",
   "version": "3.7.3"
  }
 },
 "nbformat": 4,
 "nbformat_minor": 2
}
