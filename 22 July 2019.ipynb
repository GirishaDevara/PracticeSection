{
 "cells": [
  {
   "cell_type": "markdown",
   "metadata": {},
   "source": [
    "# Date : 22 July 2019\n"
   ]
  },
  {
   "cell_type": "markdown",
   "metadata": {},
   "source": [
    "### 1. MYSTERY"
   ]
  },
  {
   "cell_type": "code",
   "execution_count": 4,
   "metadata": {},
   "outputs": [
    {
     "name": "stdout",
     "output_type": "stream",
     "text": [
      "2\n",
      "1\n",
      "54\n",
      "4\n",
      "4\n",
      "1\n",
      "\n"
     ]
    }
   ],
   "source": [
    "while True:\n",
    "    try:\n",
    "        n = input()\n",
    "        print(bin(int(n)).count(\"1\"))\n",
    "    except:\n",
    "        break"
   ]
  },
  {
   "cell_type": "markdown",
   "metadata": {},
   "source": [
    "### 2. Subham and Binary Strings"
   ]
  },
  {
   "cell_type": "code",
   "execution_count": 10,
   "metadata": {},
   "outputs": [
    {
     "data": {
      "text/plain": [
       "'0b11001010'"
      ]
     },
     "execution_count": 10,
     "metadata": {},
     "output_type": "execute_result"
    }
   ],
   "source": [
    "n = 101\n",
    "bin(n << 1)"
   ]
  },
  {
   "cell_type": "code",
   "execution_count": 15,
   "metadata": {},
   "outputs": [
    {
     "data": {
      "text/plain": [
       "'011'"
      ]
     },
     "execution_count": 15,
     "metadata": {},
     "output_type": "execute_result"
    }
   ],
   "source": [
    "\"110\"[::-1]"
   ]
  },
  {
   "cell_type": "code",
   "execution_count": 32,
   "metadata": {},
   "outputs": [
    {
     "name": "stdout",
     "output_type": "stream",
     "text": [
      "1\n",
      "5\n",
      "10011\n",
      "00111\n",
      "01110\n",
      "11100\n",
      "11001\n",
      "10011\n",
      "3\n"
     ]
    }
   ],
   "source": [
    "def binTodecimal(binstr):\n",
    "    return int(binstr,2)\n",
    "\n",
    "for t in range(int(input())):\n",
    "    n = int(input())\n",
    "    s = input()\n",
    "    c = 0\n",
    "    for shift in range(n):\n",
    "        if s[0] == \"0\":\n",
    "            s = s[1:]+\"0\"\n",
    "        else:\n",
    "            s = s[1:]+\"1\"\n",
    "        print(s)\n",
    "        if binTodecimal(s) % 2 == 0:\n",
    "            c += 1\n",
    "    print(c)        "
   ]
  },
  {
   "cell_type": "code",
   "execution_count": 38,
   "metadata": {},
   "outputs": [
    {
     "data": {
      "text/plain": [
       "2"
      ]
     },
     "execution_count": 38,
     "metadata": {},
     "output_type": "execute_result"
    }
   ],
   "source": [
    "\"0101\".count(\"0\")"
   ]
  },
  {
   "cell_type": "code",
   "execution_count": 41,
   "metadata": {},
   "outputs": [
    {
     "name": "stdout",
     "output_type": "stream",
     "text": [
      "1\n",
      "5\n",
      "10011\n",
      "2\n"
     ]
    }
   ],
   "source": [
    "# best Solution\n",
    "for t in range(int(input())):\n",
    "    n = int(input())\n",
    "    s = input()\n",
    "    print(s.count(\"0\")) "
   ]
  },
  {
   "cell_type": "markdown",
   "metadata": {},
   "source": [
    "### 3. Monk and the box of cookies"
   ]
  },
  {
   "cell_type": "code",
   "execution_count": 49,
   "metadata": {},
   "outputs": [
    {
     "data": {
      "text/plain": [
       "[0, 0, 0, 0, 0, 0, 0, 0, 0, 0]"
      ]
     },
     "execution_count": 49,
     "metadata": {},
     "output_type": "execute_result"
    }
   ],
   "source": [
    "bin(4990898)[2:]\n",
    "[0]*10"
   ]
  },
  {
   "cell_type": "code",
   "execution_count": 32,
   "metadata": {},
   "outputs": [
    {
     "name": "stdout",
     "output_type": "stream",
     "text": [
      "1\n",
      "4\n",
      "4\n",
      "2\n",
      "8\n",
      "2\n",
      "1\n"
     ]
    }
   ],
   "source": [
    "for t in range(int(input())):\n",
    "    cl = [0]*32\n",
    "   \n",
    "    for n in range(int(input())):\n",
    "        b = '0'*32\n",
    "        num = int(input())\n",
    "        bnum = bin(num)[2:]\n",
    "        b = b[len(bnum):]+bnum\n",
    "        for i in range(len(b)):\n",
    "            if b[i] == '1':\n",
    "                cl[i] += 1\n",
    "        f = cl[::-1]\n",
    "    print(f.index(max(f)))"
   ]
  },
  {
   "cell_type": "code",
   "execution_count": 30,
   "metadata": {},
   "outputs": [
    {
     "data": {
      "text/plain": [
       "'0000000000011'"
      ]
     },
     "execution_count": 30,
     "metadata": {},
     "output_type": "execute_result"
    }
   ],
   "source": [
    "\"0000000000000\"[len('11'):]+\"11\""
   ]
  },
  {
   "cell_type": "markdown",
   "metadata": {},
   "source": [
    "### 4. The Castle Gate \n",
    "2:11pm  2:30pm"
   ]
  },
  {
   "cell_type": "code",
   "execution_count": 33,
   "metadata": {},
   "outputs": [
    {
     "data": {
      "text/plain": [
       "3"
      ]
     },
     "execution_count": 33,
     "metadata": {},
     "output_type": "execute_result"
    }
   ],
   "source": [
    "1^2"
   ]
  },
  {
   "cell_type": "code",
   "execution_count": 2,
   "metadata": {},
   "outputs": [
    {
     "name": "stdout",
     "output_type": "stream",
     "text": [
      "1\n",
      "4\n",
      "3\n"
     ]
    }
   ],
   "source": [
    "for t in range(int(input())):\n",
    "    n = int(input())\n",
    "    c = 0\n",
    "    for i in range(1,n):\n",
    "        for j in range(i+1,n+1):\n",
    "            if (i^j) <= n:\n",
    "                c += 1\n",
    "    print(c)"
   ]
  },
  {
   "cell_type": "markdown",
   "metadata": {},
   "source": [
    "### 5. Hihi and Crazy Bits\n",
    "2:40pm 3:20pm"
   ]
  },
  {
   "cell_type": "code",
   "execution_count": 5,
   "metadata": {},
   "outputs": [
    {
     "data": {
      "text/plain": [
       "'0b111100110100000001100011011100011110100000011011100011'"
      ]
     },
     "execution_count": 5,
     "metadata": {},
     "output_type": "execute_result"
    }
   ],
   "source": [
    "v = bin(17117303799416547)\n",
    "v"
   ]
  },
  {
   "cell_type": "code",
   "execution_count": 8,
   "metadata": {},
   "outputs": [
    {
     "data": {
      "text/plain": [
       "17117303799416551"
      ]
     },
     "execution_count": 8,
     "metadata": {},
     "output_type": "execute_result"
    }
   ],
   "source": [
    "int('111100110100000001100011011100011110100000011011100111',2)"
   ]
  },
  {
   "cell_type": "code",
   "execution_count": 1,
   "metadata": {},
   "outputs": [
    {
     "name": "stdout",
     "output_type": "stream",
     "text": [
      "2\n",
      "2\n",
      "3\n",
      "5\n",
      "7\n"
     ]
    }
   ],
   "source": [
    "for t in range(int(input())):\n",
    "    n = bin(int(input()))[2:]\n",
    "    if n[-1] == \"0\":\n",
    "        print(int(n,2)+1)\n",
    "    else:\n",
    "        b = list(map(int,n))[::-1]\n",
    "        b[n[::-1].index(\"0\")] = b[n[::-1].index(\"0\")]^1\n",
    "        r = int(\"\".join(map(str,b[::-1])),2)\n",
    "        print(r)"
   ]
  },
  {
   "cell_type": "markdown",
   "metadata": {},
   "source": [
    "### 6. Help your roommate\n",
    "3:25pm 3:50pm"
   ]
  },
  {
   "cell_type": "code",
   "execution_count": 5,
   "metadata": {},
   "outputs": [
    {
     "data": {
      "text/plain": [
       "180.0"
      ]
     },
     "execution_count": 5,
     "metadata": {},
     "output_type": "execute_result"
    }
   ],
   "source": [
    "144+72/2"
   ]
  },
  {
   "cell_type": "code",
   "execution_count": 6,
   "metadata": {},
   "outputs": [
    {
     "name": "stdout",
     "output_type": "stream",
     "text": [
      "1\n",
      "4\n",
      "1\n"
     ]
    }
   ],
   "source": [
    "for t in range(int(input())):\n",
    "    n = bin(int(input()))[2:]\n",
    "    print(n.count(\"1\"))"
   ]
  },
  {
   "cell_type": "code",
   "execution_count": 7,
   "metadata": {},
   "outputs": [
    {
     "data": {
      "text/plain": [
       "1"
      ]
     },
     "execution_count": 7,
     "metadata": {},
     "output_type": "execute_result"
    }
   ],
   "source": [
    "1%2"
   ]
  },
  {
   "cell_type": "markdown",
   "metadata": {},
   "source": [
    "### 7. Rajan and Odd frequency number\n",
    "4:00pm 4:05pm"
   ]
  },
  {
   "cell_type": "code",
   "execution_count": 11,
   "metadata": {},
   "outputs": [
    {
     "name": "stdout",
     "output_type": "stream",
     "text": [
      "1\n",
      "1 2 3 2 1\n",
      "3\n"
     ]
    }
   ],
   "source": [
    "n =int(input())\n",
    "ar = list(map(int,input().split()))\n",
    "d = {}\n",
    "for ele in ar:\n",
    "    d[ele] = d.get(ele,0)+1\n",
    "for k,v in d.items():\n",
    "    if v%2 == 1:\n",
    "        print(k)"
   ]
  },
  {
   "cell_type": "markdown",
   "metadata": {},
   "source": [
    "### 8. MYSTERY\n",
    "4:10pm 4:30pm"
   ]
  },
  {
   "cell_type": "code",
   "execution_count": 12,
   "metadata": {},
   "outputs": [
    {
     "data": {
      "text/plain": [
       "'0b10110010000'"
      ]
     },
     "execution_count": 12,
     "metadata": {},
     "output_type": "execute_result"
    }
   ],
   "source": [
    "bin(1424)"
   ]
  },
  {
   "cell_type": "code",
   "execution_count": 13,
   "metadata": {},
   "outputs": [
    {
     "data": {
      "text/plain": [
       "'0b10110'"
      ]
     },
     "execution_count": 13,
     "metadata": {},
     "output_type": "execute_result"
    }
   ],
   "source": [
    "bin(22)"
   ]
  },
  {
   "cell_type": "code",
   "execution_count": 14,
   "metadata": {},
   "outputs": [
    {
     "data": {
      "text/plain": [
       "'0b1100'"
      ]
     },
     "execution_count": 14,
     "metadata": {},
     "output_type": "execute_result"
    }
   ],
   "source": [
    "bin(12)"
   ]
  },
  {
   "cell_type": "code",
   "execution_count": 4,
   "metadata": {},
   "outputs": [
    {
     "name": "stdout",
     "output_type": "stream",
     "text": [
      "12\n",
      "4\n",
      "22\n",
      "2\n",
      "1424\n",
      "16\n",
      "\n"
     ]
    }
   ],
   "source": [
    "while True:\n",
    "    try:\n",
    "        n = bin(int(input()))[2:]\n",
    "        rev = n[::-1]\n",
    "        for power in range(len(n)):\n",
    "            if rev[power] == \"1\":\n",
    "                print(2**power)\n",
    "                break\n",
    "    except:\n",
    "        break"
   ]
  },
  {
   "cell_type": "code",
   "execution_count": 18,
   "metadata": {},
   "outputs": [
    {
     "name": "stdout",
     "output_type": "stream",
     "text": [
      "1\n",
      "2\n",
      "1000 1000\n",
      "[(1000, 6)]\n",
      "1000 \n"
     ]
    }
   ],
   "source": [
    "for t in range(int(input())):\n",
    "    n = int(input())\n",
    "    ar = list(map(int,input().split()))\n",
    "    d = {}\n",
    "    for ele in ar:\n",
    "        d[ele] = bin(ele).count(\"1\")\n",
    "    lt = sorted(d.items(),key = lambda x:x[1])\n",
    "    print(lt)\n",
    "    for tup in lt:\n",
    "        print(tup[0],end = \" \")\n",
    "    print(\"\\r\")"
   ]
  },
  {
   "cell_type": "code",
   "execution_count": null,
   "metadata": {},
   "outputs": [],
   "source": []
  }
 ],
 "metadata": {
  "kernelspec": {
   "display_name": "Python 3",
   "language": "python",
   "name": "python3"
  },
  "language_info": {
   "codemirror_mode": {
    "name": "ipython",
    "version": 3
   },
   "file_extension": ".py",
   "mimetype": "text/x-python",
   "name": "python",
   "nbconvert_exporter": "python",
   "pygments_lexer": "ipython3",
   "version": "3.7.3"
  }
 },
 "nbformat": 4,
 "nbformat_minor": 2
}
