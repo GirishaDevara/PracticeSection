{
 "cells": [
  {
   "cell_type": "markdown",
   "metadata": {},
   "source": [
    "# Date: 24 July 2019\n"
   ]
  },
  {
   "cell_type": "markdown",
   "metadata": {},
   "source": [
    "### 1. Subset AND"
   ]
  },
  {
   "cell_type": "code",
   "execution_count": 3,
   "metadata": {},
   "outputs": [
    {
     "name": "stdout",
     "output_type": "stream",
     "text": [
      "1\n",
      "10 2\n",
      "2 10\n",
      "No\n"
     ]
    }
   ],
   "source": [
    "for t in range(int(input())):\n",
    "    z,n = map(int,input().split())\n",
    "    s = list(map(int,input().split()))\n",
    "    for ele in s:\n",
    "        z &= ele\n",
    "    if z == 0:\n",
    "        print(\"Yes\")\n",
    "    else:\n",
    "        print(\"No\")\n",
    "        "
   ]
  },
  {
   "cell_type": "code",
   "execution_count": 4,
   "metadata": {},
   "outputs": [
    {
     "data": {
      "text/plain": [
       "0"
      ]
     },
     "execution_count": 4,
     "metadata": {},
     "output_type": "execute_result"
    }
   ],
   "source": [
    "10 & 2 & 0"
   ]
  },
  {
   "cell_type": "markdown",
   "metadata": {},
   "source": [
    "### 2. The Great Kian"
   ]
  },
  {
   "cell_type": "code",
   "execution_count": 3,
   "metadata": {},
   "outputs": [
    {
     "name": "stdout",
     "output_type": "stream",
     "text": [
      "5\n",
      "1 2 3 4 5\n",
      "5 7 3\n"
     ]
    }
   ],
   "source": [
    "n = int(input())\n",
    "ar = list(map(int,input().split()))\n",
    "\n",
    "ti,tj,tk = 0,0,0\n",
    "t = []\n",
    "i = 0\n",
    "j = 1\n",
    "k = 2\n",
    "while i <= n-1:\n",
    "    ti += ar[i]\n",
    "    i += 3\n",
    "t.append(ti)\n",
    "while j <= n-1:\n",
    "    tj += ar[j]\n",
    "    j += 3\n",
    "t.append(tj)\n",
    "while k <= n-1:\n",
    "    tk += ar[k]\n",
    "    k += 3\n",
    "t.append(tk)  \n",
    "print(\" \".join(map(str,t)))"
   ]
  },
  {
   "cell_type": "markdown",
   "metadata": {},
   "source": [
    "### 3. Notes and coins <OOPS - Java, Java8>"
   ]
  },
  {
   "cell_type": "code",
   "execution_count": 4,
   "metadata": {},
   "outputs": [
    {
     "name": "stdout",
     "output_type": "stream",
     "text": [
      "2\n",
      "Note 83\n",
      "Coin 19\n",
      "Coins :\n",
      "19\n",
      "Notes :\n",
      "83\n"
     ]
    }
   ],
   "source": [
    "Coins = []\n",
    "Notes = []\n",
    "for t in range(int(input())):\n",
    "    s = input().split()\n",
    "    if s[0] == \"Note\":\n",
    "        Notes.append(s[1])\n",
    "    else:\n",
    "        Coins.append(s[1])\n",
    "print(\"Coins :\")\n",
    "for c in Coins:\n",
    "    print(c)\n",
    "print(\"Notes :\")\n",
    "for n in Notes:\n",
    "    print(n)"
   ]
  },
  {
   "cell_type": "code",
   "execution_count": null,
   "metadata": {},
   "outputs": [],
   "source": []
  }
 ],
 "metadata": {
  "kernelspec": {
   "display_name": "Python 3",
   "language": "python",
   "name": "python3"
  },
  "language_info": {
   "codemirror_mode": {
    "name": "ipython",
    "version": 3
   },
   "file_extension": ".py",
   "mimetype": "text/x-python",
   "name": "python",
   "nbconvert_exporter": "python",
   "pygments_lexer": "ipython3",
   "version": "3.7.3"
  }
 },
 "nbformat": 4,
 "nbformat_minor": 2
}
