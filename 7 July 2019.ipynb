{
 "cells": [
  {
   "cell_type": "markdown",
   "metadata": {},
   "source": [
    "# Practice\n",
    "\n",
    "- print minimum value of a array with out using min function\n",
    "- print maximum value of a array with out using maxfunction\n",
    "- sorting of numbers in an array with out using sorting"
   ]
  },
  {
   "cell_type": "code",
   "execution_count": 4,
   "metadata": {},
   "outputs": [
    {
     "name": "stdout",
     "output_type": "stream",
     "text": [
      "0 9 -09 8\n",
      "-9\n"
     ]
    }
   ],
   "source": [
    "## - print minimum value of a array with out using min function\n",
    "li = list(map(int,input().split()))\n",
    "minval = li[0]\n",
    "for i in li:\n",
    "    if minval > i:\n",
    "        minval = i\n",
    "print(minval)"
   ]
  },
  {
   "cell_type": "code",
   "execution_count": 6,
   "metadata": {},
   "outputs": [
    {
     "name": "stdout",
     "output_type": "stream",
     "text": [
      "9 218 3288 0 28 -1893\n",
      "3288\n"
     ]
    }
   ],
   "source": [
    "## print maximum value of a array with out using maxfunction\n",
    "li1 = list(map(int,input().split()))\n",
    "maxval = li1[0]\n",
    "for i in li1:\n",
    "    if maxval < i:\n",
    "        maxval = i\n",
    "print(maxval)"
   ]
  },
  {
   "cell_type": "code",
   "execution_count": 11,
   "metadata": {},
   "outputs": [
    {
     "name": "stdout",
     "output_type": "stream",
     "text": [
      "5 6 3 -9 10\n",
      "[10, 6, 5, 3, -9]\n"
     ]
    }
   ],
   "source": [
    "##  sorting of numbers in an array with out using sorting\n",
    "li2 = list(map(int,input().split()))\n",
    "for i in range(len(li2)):\n",
    "    for j in range(i,len(li2)):\n",
    "        if li2[i] < li2[j]:\n",
    "            t1 = li2[j]\n",
    "            t2 = li2[i]\n",
    "            li2[i]= t1\n",
    "            li2[j] = t2\n",
    "print(li2)"
   ]
  },
  {
   "cell_type": "code",
   "execution_count": 15,
   "metadata": {},
   "outputs": [
    {
     "name": "stdout",
     "output_type": "stream",
     "text": [
      "{'a': 2, 'b': 3, 'c': 3, 'd': 1}\n",
      "2,a ,3,b ,3,c ,1,d ,"
     ]
    },
    {
     "data": {
      "text/plain": [
       "{}"
      ]
     },
     "execution_count": 15,
     "metadata": {},
     "output_type": "execute_result"
    }
   ],
   "source": [
    "s = \"aabbbccdc\"\n",
    "d = {}\n",
    "for c in s:\n",
    "    d[c] = d.get(c,0)+1\n",
    "print(d)\n",
    "revd = {}\n",
    "for k,v in d.items():\n",
    "    print(v,k,sep=\",\",end=\" ,\")\n",
    "revd"
   ]
  },
  {
   "cell_type": "code",
   "execution_count": null,
   "metadata": {},
   "outputs": [],
   "source": []
  }
 ],
 "metadata": {
  "kernelspec": {
   "display_name": "Python 3",
   "language": "python",
   "name": "python3"
  },
  "language_info": {
   "codemirror_mode": {
    "name": "ipython",
    "version": 3
   },
   "file_extension": ".py",
   "mimetype": "text/x-python",
   "name": "python",
   "nbconvert_exporter": "python",
   "pygments_lexer": "ipython3",
   "version": "3.7.3"
  }
 },
 "nbformat": 4,
 "nbformat_minor": 2
}
