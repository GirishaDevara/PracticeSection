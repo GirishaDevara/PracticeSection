{
 "cells": [
  {
   "cell_type": "markdown",
   "metadata": {},
   "source": [
    "# Date: 10 July 2019\n",
    "### Practice Section\n",
    "- Dictionaries"
   ]
  },
  {
   "cell_type": "code",
   "execution_count": 11,
   "metadata": {},
   "outputs": [
    {
     "name": "stdout",
     "output_type": "stream",
     "text": [
      "1 : sunil 111\n",
      "2 : anil 112\n",
      "3 : rahul 113\n"
     ]
    }
   ],
   "source": [
    "d = {\"name\":[\"sunil\",\"anil\",\"rahul\"], \"rollnum\":[111,112,113]}\n",
    "v = list(d.values())\n",
    "j = 0\n",
    "for i in range(len(v[0])):\n",
    "    print(j+1,\":\",v[0][j],v[1][j])\n",
    "    j += 1"
   ]
  },
  {
   "cell_type": "code",
   "execution_count": 39,
   "metadata": {},
   "outputs": [
    {
     "name": "stdout",
     "output_type": "stream",
     "text": [
      "1\n",
      "WelcomeGeek WelcomeToGeeksForGeeks GeeksForGeeks\n",
      "as\n",
      "No match found\n"
     ]
    }
   ],
   "source": [
    "for t in range(int(input())):\n",
    "    s = input().split()#\"WelcomeGeek WelcomeToGeeksForGeeks GeeksForGeeks\"\n",
    "    teststr = input() # \"WTG\n",
    "    d = {}\n",
    "    for word in s:\n",
    "        cs = \"\"\n",
    "        for char in word:\n",
    "            if char.isupper():\n",
    "                cs += char\n",
    "        d[cs] = word\n",
    "    temp = False\n",
    "    for t in d.items():\n",
    "        if t[0].find(teststr) == 0:\n",
    "             temp = True\n",
    "    if temp:\n",
    "        print(t[1])\n",
    "    else:\n",
    "        print(\"No match found\")"
   ]
  },
  {
   "cell_type": "code",
   "execution_count": 26,
   "metadata": {},
   "outputs": [
    {
     "name": "stdout",
     "output_type": "stream",
     "text": [
      "sunil 23\n"
     ]
    },
    {
     "data": {
      "text/plain": [
       "{'sunil': 23}"
      ]
     },
     "execution_count": 26,
     "metadata": {},
     "output_type": "execute_result"
    }
   ],
   "source": [
    "s = input().split()\n",
    "k = []\n",
    "v = []\n",
    "for word in s:\n",
    "    if word.isalpha():\n",
    "        k.append(word)\n",
    "    else:\n",
    "        v.append(word)\n",
    "d = {}\n",
    "for i in range(len(k)):\n",
    "    d[k[i]] = int(v[i])\n",
    "d"
   ]
  },
  {
   "cell_type": "code",
   "execution_count": 14,
   "metadata": {},
   "outputs": [
    {
     "data": {
      "text/plain": [
       "[('A', 61), ('b', 39), ('c', 25)]"
      ]
     },
     "execution_count": 14,
     "metadata": {},
     "output_type": "execute_result"
    }
   ],
   "source": [
    "d = {\"A\":61,\"c\":25,\"b\":39}\n",
    "sorted(d.items(),key = lambda x:x[1],reverse=True)"
   ]
  },
  {
   "cell_type": "code",
   "execution_count": 17,
   "metadata": {},
   "outputs": [
    {
     "data": {
      "text/plain": [
       "int"
      ]
     },
     "execution_count": 17,
     "metadata": {},
     "output_type": "execute_result"
    }
   ],
   "source": [
    "type(d.get(\"A\"))"
   ]
  },
  {
   "cell_type": "code",
   "execution_count": 43,
   "metadata": {},
   "outputs": [
    {
     "data": {
      "text/plain": [
       "['1', '2', '3']"
      ]
     },
     "execution_count": 43,
     "metadata": {},
     "output_type": "execute_result"
    }
   ],
   "source": [
    "\"1 2 3\".split()"
   ]
  },
  {
   "cell_type": "code",
   "execution_count": 45,
   "metadata": {},
   "outputs": [
    {
     "name": "stdout",
     "output_type": "stream",
     "text": [
      "hi 4\n"
     ]
    }
   ],
   "source": [
    "print(\"hi\",\"4\")\n"
   ]
  },
  {
   "cell_type": "code",
   "execution_count": 40,
   "metadata": {},
   "outputs": [
    {
     "name": "stdout",
     "output_type": "stream",
     "text": [
      "0.8939966636005579\n",
      "51.222235723088794\n",
      "-26\n",
      "-26\n"
     ]
    }
   ],
   "source": [
    "import math\n",
    "print(math.sin(90))\n",
    "print(math.degrees(math.sin(90)))\n",
    "print(round(-25.67272711536642))\n",
    "print(int(round(-25.67272711536642)))"
   ]
  },
  {
   "cell_type": "code",
   "execution_count": 38,
   "metadata": {},
   "outputs": [
    {
     "name": "stdout",
     "output_type": "stream",
     "text": [
      "Help on built-in function sin in module math:\n",
      "\n",
      "sin(x, /)\n",
      "    Return the sine of x (measured in radians).\n",
      "\n"
     ]
    }
   ],
   "source": [
    "help(math.sin)"
   ]
  },
  {
   "cell_type": "code",
   "execution_count": 13,
   "metadata": {},
   "outputs": [
    {
     "name": "stdout",
     "output_type": "stream",
     "text": [
      "2 1 ty 1 3 abs 3 1 QUIT\n",
      "Invalid\n",
      "Invalid\n",
      "11\n"
     ]
    }
   ],
   "source": [
    "# 2 8 ty 9 3 abs 4 1 QUIT \n",
    "\n",
    "l = []\n",
    "s = input().split()\n",
    "for i in s:\n",
    "    if i.isdigit():\n",
    "        l.append(int(i))\n",
    "    elif i == \"QUIT\":\n",
    "        break\n",
    "    else:\n",
    "        print(\"Invalid\")\n",
    "print(sum(l))"
   ]
  },
  {
   "cell_type": "code",
   "execution_count": null,
   "metadata": {},
   "outputs": [],
   "source": []
  }
 ],
 "metadata": {
  "kernelspec": {
   "display_name": "Python 3",
   "language": "python",
   "name": "python3"
  },
  "language_info": {
   "codemirror_mode": {
    "name": "ipython",
    "version": 3
   },
   "file_extension": ".py",
   "mimetype": "text/x-python",
   "name": "python",
   "nbconvert_exporter": "python",
   "pygments_lexer": "ipython3",
   "version": "3.7.3"
  }
 },
 "nbformat": 4,
 "nbformat_minor": 2
}
