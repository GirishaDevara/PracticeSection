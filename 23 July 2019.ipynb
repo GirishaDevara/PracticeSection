{
 "cells": [
  {
   "cell_type": "markdown",
   "metadata": {},
   "source": [
    "# Date: 23 July 2019\n",
    "### 1"
   ]
  },
  {
   "cell_type": "code",
   "execution_count": 54,
   "metadata": {},
   "outputs": [
    {
     "name": "stdout",
     "output_type": "stream",
     "text": [
      "1\n",
      "2\n",
      "1 5 7 8\n",
      "1 8 5 7\n"
     ]
    }
   ],
   "source": [
    "for t in range(int(input())):\n",
    "    n = int(input())\n",
    "    print(\" \".join(map(str,sorted(map(int,input().split()),key = lambda x: bin(x)[2:].count(\"1\")))))"
   ]
  },
  {
   "cell_type": "code",
   "execution_count": 37,
   "metadata": {},
   "outputs": [
    {
     "data": {
      "text/plain": [
       "3.321928094887362"
      ]
     },
     "execution_count": 37,
     "metadata": {},
     "output_type": "execute_result"
    }
   ],
   "source": [
    "import math\n",
    "e = math.log2(10)\n",
    "round(e)\n",
    "e"
   ]
  },
  {
   "cell_type": "code",
   "execution_count": 23,
   "metadata": {},
   "outputs": [
    {
     "name": "stdout",
     "output_type": "stream",
     "text": [
      "Help on built-in function log2 in module math:\n",
      "\n",
      "log2(x, /)\n",
      "    Return the base 2 logarithm of x.\n",
      "\n"
     ]
    }
   ],
   "source": [
    "help(math.log2)"
   ]
  },
  {
   "cell_type": "markdown",
   "metadata": {},
   "source": [
    "### 2. Sherlock and XOR\n",
    "10:30am 11:00Am"
   ]
  },
  {
   "cell_type": "code",
   "execution_count": 64,
   "metadata": {},
   "outputs": [
    {
     "name": "stdout",
     "output_type": "stream",
     "text": [
      "1\n",
      "3\n",
      "1 2 3\n",
      "2\n"
     ]
    }
   ],
   "source": [
    "for t in range(int(input())):\n",
    "    n = int(input())\n",
    "    ar = list(map(int,input().split()))\n",
    "    c = 0\n",
    "    for i in range(n-1):\n",
    "        for j in range(i+1,n):\n",
    "            if (ar[i]^ar[j]) % 2 == 1:\n",
    "                c +=1\n",
    "    print(c)"
   ]
  },
  {
   "cell_type": "code",
   "execution_count": 63,
   "metadata": {},
   "outputs": [
    {
     "name": "stdout",
     "output_type": "stream",
     "text": [
      "1\n"
     ]
    }
   ],
   "source": [
    "li = [89,76,763,7436,2,1,637]\n",
    "minval = li[0]\n",
    "for i in li:\n",
    "    if minval > i:\n",
    "        minval = i\n",
    "print(minval)"
   ]
  },
  {
   "cell_type": "markdown",
   "metadata": {},
   "source": [
    "### 3. Poisonous gas\n",
    "11:20Am 11:40Am"
   ]
  },
  {
   "cell_type": "code",
   "execution_count": 72,
   "metadata": {},
   "outputs": [
    {
     "name": "stdout",
     "output_type": "stream",
     "text": [
      "1\n",
      "2\n",
      "8 -4\n",
      "8\n",
      "Yes\n"
     ]
    }
   ],
   "source": [
    "for t in range(int(input())):\n",
    "    n = int(input())\n",
    "    ar = list(map(int,input().split()))\n",
    "    s = 0\n",
    "    for ele in ar:\n",
    "        if ele > 0:\n",
    "            s += ele\n",
    "    print(s)\n",
    "    i = 0\n",
    "    f = False\n",
    "    while(s >= (2**i)):\n",
    "        if (s == (2**i)):\n",
    "            f = True\n",
    "        i += 1\n",
    "    if f==True:\n",
    "        print(\"Yes\")\n",
    "    else:\n",
    "        print(\"No\")"
   ]
  },
  {
   "cell_type": "code",
   "execution_count": 74,
   "metadata": {
    "scrolled": true
   },
   "outputs": [
    {
     "data": {
      "text/plain": [
       "True"
      ]
     },
     "execution_count": 74,
     "metadata": {},
     "output_type": "execute_result"
    }
   ],
   "source": [
    "sorted(list(\"phackerekarthj\"))==sorted(list(\"jhakckerearthp\"))"
   ]
  },
  {
   "cell_type": "code",
   "execution_count": 77,
   "metadata": {},
   "outputs": [
    {
     "data": {
      "text/plain": [
       "{'a', 'c', 'e', 'h', 'j', 'k', 'p', 'r', 't'}"
      ]
     },
     "execution_count": 77,
     "metadata": {},
     "output_type": "execute_result"
    }
   ],
   "source": [
    "set(\"phackerekarthj\")&set(\"jhakckerearthp\")"
   ]
  },
  {
   "cell_type": "code",
   "execution_count": 78,
   "metadata": {},
   "outputs": [
    {
     "data": {
      "text/plain": [
       "set()"
      ]
     },
     "execution_count": 78,
     "metadata": {},
     "output_type": "execute_result"
    }
   ],
   "source": [
    "set(\"ah\") & set(\"gty\")"
   ]
  },
  {
   "cell_type": "code",
   "execution_count": 86,
   "metadata": {},
   "outputs": [
    {
     "data": {
      "text/plain": [
       "False"
      ]
     },
     "execution_count": 86,
     "metadata": {},
     "output_type": "execute_result"
    }
   ],
   "source": [
    "set(\"phackerekarthj\")&set(\"jhakckerearthp\") == False"
   ]
  },
  {
   "cell_type": "code",
   "execution_count": 88,
   "metadata": {},
   "outputs": [
    {
     "data": {
      "text/plain": [
       "False"
      ]
     },
     "execution_count": 88,
     "metadata": {},
     "output_type": "execute_result"
    }
   ],
   "source": [
    "set(\"ah\") & set(\"gty\") == False"
   ]
  },
  {
   "cell_type": "code",
   "execution_count": 87,
   "metadata": {},
   "outputs": [
    {
     "data": {
      "text/plain": [
       "True"
      ]
     },
     "execution_count": 87,
     "metadata": {},
     "output_type": "execute_result"
    }
   ],
   "source": [
    "False == False"
   ]
  },
  {
   "cell_type": "markdown",
   "metadata": {},
   "source": [
    "### 4. Xsquare And Two Strings\n",
    "11:45Am 12:00Pm"
   ]
  },
  {
   "cell_type": "code",
   "execution_count": 76,
   "metadata": {},
   "outputs": [
    {
     "name": "stdout",
     "output_type": "stream",
     "text": [
      "1\n",
      "jsk\n",
      "s\n",
      "Yes\n"
     ]
    }
   ],
   "source": [
    "for t in range(int(input())):\n",
    "    s1 = input()\n",
    "    s2 = input()\n",
    "    f = False\n",
    "    if len(s1) < len(s2):\n",
    "        for char in s1:\n",
    "            if char in s2:\n",
    "                f = True\n",
    "                break\n",
    "    else:\n",
    "        for char in s2:\n",
    "            if char in s1:\n",
    "                f = True\n",
    "                break\n",
    "    if f:\n",
    "        print(\"Yes\")\n",
    "    else:\n",
    "        print(\"No\")"
   ]
  },
  {
   "cell_type": "markdown",
   "metadata": {},
   "source": [
    "### 5. Special Bit Numbers\n",
    "1:42Pm"
   ]
  },
  {
   "cell_type": "code",
   "execution_count": 90,
   "metadata": {},
   "outputs": [
    {
     "name": "stdout",
     "output_type": "stream",
     "text": [
      "9 8\n"
     ]
    }
   ],
   "source": [
    "n,q = map(int,input().split())"
   ]
  },
  {
   "cell_type": "code",
   "execution_count": 6,
   "metadata": {},
   "outputs": [
    {
     "name": "stdout",
     "output_type": "stream",
     "text": [
      "5 1\n",
      "3 5 1 12 7\n",
      "1 3\n",
      "['1']\n"
     ]
    }
   ],
   "source": [
    "n,q = map(int,input().split())\n",
    "ar = list(map(int,input().split()))\n",
    "for t in range(q):\n",
    "    lb,ub = map(int,input().split())\n",
    "    c = \"\"\n",
    "    v = [c+\"1\" for index in range(lb-1,ub) if \"11\" in bin(ar[index])[2:]]\n",
    "    print(v)"
   ]
  },
  {
   "cell_type": "markdown",
   "metadata": {},
   "source": [
    "### 6. Player of next match"
   ]
  },
  {
   "cell_type": "code",
   "execution_count": 5,
   "metadata": {},
   "outputs": [
    {
     "name": "stdout",
     "output_type": "stream",
     "text": [
      "1\n",
      "4\n",
      "2 19 8 14\n",
      "13\n"
     ]
    }
   ],
   "source": [
    "for t in range(int(input())):\n",
    "    n = int(input())\n",
    "    ar = list(map(int,input().split()))\n",
    "    s = 0\n",
    "    for ele in ar:\n",
    "        bits = bin(ele)[2:][::-1]\n",
    "        for i in range(len(bits)):\n",
    "            if bits[i] == \"1\":\n",
    "                s += 2**i\n",
    "                break\n",
    "    print(s)      \n",
    "    #print(sum([bin(i)[2:] for i in ar]))"
   ]
  },
  {
   "cell_type": "markdown",
   "metadata": {},
   "source": [
    "### 7.  A) Try me first\n",
    "2:30pm 2:45pm"
   ]
  },
  {
   "cell_type": "code",
   "execution_count": 17,
   "metadata": {},
   "outputs": [
    {
     "data": {
      "text/plain": [
       "0"
      ]
     },
     "execution_count": 17,
     "metadata": {},
     "output_type": "execute_result"
    }
   ],
   "source": [
    " int(\"\".join(map(str,[i^1 for i in map(int,list(bin(7)[2:]))])),2)"
   ]
  },
  {
   "cell_type": "code",
   "execution_count": 18,
   "metadata": {},
   "outputs": [
    {
     "name": "stdout",
     "output_type": "stream",
     "text": [
      "6\n",
      "6 1\n"
     ]
    }
   ],
   "source": [
    "a = int(input())\n",
    "print(a,int(\"\".join(map(str,[i^1 for i in map(int,list(bin(a)[2:]))])),2))"
   ]
  },
  {
   "cell_type": "code",
   "execution_count": 26,
   "metadata": {},
   "outputs": [
    {
     "ename": "ValueError",
     "evalue": "substring not found",
     "output_type": "error",
     "traceback": [
      "\u001b[1;31m---------------------------------------------------------------------------\u001b[0m",
      "\u001b[1;31mValueError\u001b[0m                                Traceback (most recent call last)",
      "\u001b[1;32m<ipython-input-26-53471c028745>\u001b[0m in \u001b[0;36m<module>\u001b[1;34m\u001b[0m\n\u001b[1;32m----> 1\u001b[1;33m \u001b[1;34m\"54236548\"\u001b[0m\u001b[1;33m.\u001b[0m\u001b[0mindex\u001b[0m\u001b[1;33m(\u001b[0m\u001b[1;34m\"9\"\u001b[0m\u001b[1;33m)\u001b[0m\u001b[1;33m\u001b[0m\u001b[1;33m\u001b[0m\u001b[0m\n\u001b[0m",
      "\u001b[1;31mValueError\u001b[0m: substring not found"
     ]
    }
   ],
   "source": [
    "\"54236548\".index(\"9\")"
   ]
  },
  {
   "cell_type": "markdown",
   "metadata": {},
   "source": [
    "### 8. Power of 2"
   ]
  },
  {
   "cell_type": "code",
   "execution_count": 35,
   "metadata": {},
   "outputs": [
    {
     "name": "stdout",
     "output_type": "stream",
     "text": [
      "5\n",
      "1\n",
      "2\n",
      "3\n",
      "4\n",
      "5\n",
      "3\n"
     ]
    }
   ],
   "source": [
    "c = 0\n",
    "for n in range(int(input())):\n",
    "    y = int(input())\n",
    "    i = 0\n",
    "    while (y >= 2**i):\n",
    "        if 2**i == y:\n",
    "            c += 1\n",
    "        i += 1\n",
    "print(c)"
   ]
  },
  {
   "cell_type": "code",
   "execution_count": 40,
   "metadata": {},
   "outputs": [
    {
     "data": {
      "text/plain": [
       "7"
      ]
     },
     "execution_count": 40,
     "metadata": {},
     "output_type": "execute_result"
    }
   ],
   "source": [
    "5 | 7"
   ]
  },
  {
   "cell_type": "markdown",
   "metadata": {},
   "source": [
    "### 9.  Aaryan, Subsequences And Great XOR"
   ]
  },
  {
   "cell_type": "code",
   "execution_count": null,
   "metadata": {},
   "outputs": [],
   "source": [
    "n = int(input())\n",
    "ar = list(map(int,input().split()))\n",
    "r = 0\n",
    "for i in range(n-1):\n",
    "    r |= ar[i] | ar[i+1]\n",
    "print(r)"
   ]
  },
  {
   "cell_type": "code",
   "execution_count": null,
   "metadata": {},
   "outputs": [],
   "source": []
  }
 ],
 "metadata": {
  "kernelspec": {
   "display_name": "Python 3",
   "language": "python",
   "name": "python3"
  },
  "language_info": {
   "codemirror_mode": {
    "name": "ipython",
    "version": 3
   },
   "file_extension": ".py",
   "mimetype": "text/x-python",
   "name": "python",
   "nbconvert_exporter": "python",
   "pygments_lexer": "ipython3",
   "version": "3.7.3"
  }
 },
 "nbformat": 4,
 "nbformat_minor": 2
}
